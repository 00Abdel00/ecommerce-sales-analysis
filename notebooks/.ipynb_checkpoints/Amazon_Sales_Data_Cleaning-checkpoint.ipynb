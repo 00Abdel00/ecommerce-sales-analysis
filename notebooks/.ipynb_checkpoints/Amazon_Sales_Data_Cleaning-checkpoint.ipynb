{
 "cells": [
  {
   "cell_type": "code",
   "execution_count": 11,
   "id": "abe255f2-5c5f-45df-bff6-fb77bcf2a793",
   "metadata": {},
   "outputs": [],
   "source": [
    "import pandas as pd\n",
    "\n",
    "# Load the data\n",
    "df = pd.read_csv(\"Amazon Sale Report.csv\")"
   ]
  },
  {
   "cell_type": "code",
   "execution_count": 19,
   "id": "b9f53b02-2f54-40c5-89c7-1b19799b6124",
   "metadata": {},
   "outputs": [
    {
     "data": {
      "text/html": [
       "<div>\n",
       "<style scoped>\n",
       "    .dataframe tbody tr th:only-of-type {\n",
       "        vertical-align: middle;\n",
       "    }\n",
       "\n",
       "    .dataframe tbody tr th {\n",
       "        vertical-align: top;\n",
       "    }\n",
       "\n",
       "    .dataframe thead th {\n",
       "        text-align: right;\n",
       "    }\n",
       "</style>\n",
       "<table border=\"1\" class=\"dataframe\">\n",
       "  <thead>\n",
       "    <tr style=\"text-align: right;\">\n",
       "      <th></th>\n",
       "      <th>Order ID</th>\n",
       "      <th>Date</th>\n",
       "      <th>Status</th>\n",
       "      <th>Fulfilment</th>\n",
       "      <th>Sales Channel</th>\n",
       "      <th>ship-service-level</th>\n",
       "      <th>Style</th>\n",
       "      <th>SKU</th>\n",
       "      <th>Category</th>\n",
       "      <th>Size</th>\n",
       "      <th>ASIN</th>\n",
       "      <th>Courier Status</th>\n",
       "      <th>Qty</th>\n",
       "      <th>Amount (IDR)</th>\n",
       "      <th>ship-city</th>\n",
       "      <th>ship-state</th>\n",
       "      <th>ship-postal-code</th>\n",
       "      <th>B2B</th>\n",
       "      <th>fulfilled-by</th>\n",
       "    </tr>\n",
       "  </thead>\n",
       "  <tbody>\n",
       "    <tr>\n",
       "      <th>0</th>\n",
       "      <td>405-8078784-5731545</td>\n",
       "      <td>2022-04-01</td>\n",
       "      <td>Cancelled</td>\n",
       "      <td>Merchant</td>\n",
       "      <td>Amazon.in</td>\n",
       "      <td>Standard</td>\n",
       "      <td>SET389</td>\n",
       "      <td>SET389-KR-NP-S</td>\n",
       "      <td>Set</td>\n",
       "      <td>S</td>\n",
       "      <td>B09KXVBD7Z</td>\n",
       "      <td>NaN</td>\n",
       "      <td>0</td>\n",
       "      <td>647.62</td>\n",
       "      <td>MUMBAI</td>\n",
       "      <td>MAHARASHTRA</td>\n",
       "      <td>400081</td>\n",
       "      <td>False</td>\n",
       "      <td>Easy Ship</td>\n",
       "    </tr>\n",
       "    <tr>\n",
       "      <th>1</th>\n",
       "      <td>171-9198151-1101146</td>\n",
       "      <td>2022-04-01</td>\n",
       "      <td>Shipped - Delivered to Buyer</td>\n",
       "      <td>Merchant</td>\n",
       "      <td>Amazon.in</td>\n",
       "      <td>Standard</td>\n",
       "      <td>JNE3781</td>\n",
       "      <td>JNE3781-KR-XXXL</td>\n",
       "      <td>kurta</td>\n",
       "      <td>3XL</td>\n",
       "      <td>B09K3WFS32</td>\n",
       "      <td>Shipped</td>\n",
       "      <td>1</td>\n",
       "      <td>406.00</td>\n",
       "      <td>BENGALURU</td>\n",
       "      <td>KARNATAKA</td>\n",
       "      <td>560085</td>\n",
       "      <td>False</td>\n",
       "      <td>Easy Ship</td>\n",
       "    </tr>\n",
       "    <tr>\n",
       "      <th>2</th>\n",
       "      <td>404-0687676-7273146</td>\n",
       "      <td>2022-04-01</td>\n",
       "      <td>Shipped</td>\n",
       "      <td>Amazon</td>\n",
       "      <td>Amazon.in</td>\n",
       "      <td>Expedited</td>\n",
       "      <td>JNE3371</td>\n",
       "      <td>JNE3371-KR-XL</td>\n",
       "      <td>kurta</td>\n",
       "      <td>XL</td>\n",
       "      <td>B07WV4JV4D</td>\n",
       "      <td>Shipped</td>\n",
       "      <td>1</td>\n",
       "      <td>329.00</td>\n",
       "      <td>NAVI MUMBAI</td>\n",
       "      <td>MAHARASHTRA</td>\n",
       "      <td>410210</td>\n",
       "      <td>True</td>\n",
       "      <td>NaN</td>\n",
       "    </tr>\n",
       "    <tr>\n",
       "      <th>3</th>\n",
       "      <td>403-9615377-8133951</td>\n",
       "      <td>2022-04-01</td>\n",
       "      <td>Cancelled</td>\n",
       "      <td>Merchant</td>\n",
       "      <td>Amazon.in</td>\n",
       "      <td>Standard</td>\n",
       "      <td>J0341</td>\n",
       "      <td>J0341-DR-L</td>\n",
       "      <td>Western Dress</td>\n",
       "      <td>L</td>\n",
       "      <td>B099NRCT7B</td>\n",
       "      <td>NaN</td>\n",
       "      <td>0</td>\n",
       "      <td>753.33</td>\n",
       "      <td>PUDUCHERRY</td>\n",
       "      <td>PUDUCHERRY</td>\n",
       "      <td>605008</td>\n",
       "      <td>False</td>\n",
       "      <td>Easy Ship</td>\n",
       "    </tr>\n",
       "    <tr>\n",
       "      <th>4</th>\n",
       "      <td>407-1069790-7240320</td>\n",
       "      <td>2022-04-01</td>\n",
       "      <td>Shipped</td>\n",
       "      <td>Amazon</td>\n",
       "      <td>Amazon.in</td>\n",
       "      <td>Expedited</td>\n",
       "      <td>JNE3671</td>\n",
       "      <td>JNE3671-TU-XXXL</td>\n",
       "      <td>Top</td>\n",
       "      <td>3XL</td>\n",
       "      <td>B098714BZP</td>\n",
       "      <td>Shipped</td>\n",
       "      <td>1</td>\n",
       "      <td>574.00</td>\n",
       "      <td>CHENNAI</td>\n",
       "      <td>TAMIL NADU</td>\n",
       "      <td>600073</td>\n",
       "      <td>False</td>\n",
       "      <td>NaN</td>\n",
       "    </tr>\n",
       "  </tbody>\n",
       "</table>\n",
       "</div>"
      ],
      "text/plain": [
       "              Order ID       Date                        Status Fulfilment  \\\n",
       "0  405-8078784-5731545 2022-04-01                     Cancelled   Merchant   \n",
       "1  171-9198151-1101146 2022-04-01  Shipped - Delivered to Buyer   Merchant   \n",
       "2  404-0687676-7273146 2022-04-01                       Shipped     Amazon   \n",
       "3  403-9615377-8133951 2022-04-01                     Cancelled   Merchant   \n",
       "4  407-1069790-7240320 2022-04-01                       Shipped     Amazon   \n",
       "\n",
       "  Sales Channel ship-service-level    Style              SKU       Category  \\\n",
       "0     Amazon.in           Standard   SET389   SET389-KR-NP-S            Set   \n",
       "1     Amazon.in           Standard  JNE3781  JNE3781-KR-XXXL          kurta   \n",
       "2     Amazon.in          Expedited  JNE3371    JNE3371-KR-XL          kurta   \n",
       "3     Amazon.in           Standard    J0341       J0341-DR-L  Western Dress   \n",
       "4     Amazon.in          Expedited  JNE3671  JNE3671-TU-XXXL            Top   \n",
       "\n",
       "  Size        ASIN Courier Status  Qty  Amount (IDR)    ship-city  \\\n",
       "0    S  B09KXVBD7Z            NaN    0        647.62       MUMBAI   \n",
       "1  3XL  B09K3WFS32        Shipped    1        406.00    BENGALURU   \n",
       "2   XL  B07WV4JV4D        Shipped    1        329.00  NAVI MUMBAI   \n",
       "3    L  B099NRCT7B            NaN    0        753.33   PUDUCHERRY   \n",
       "4  3XL  B098714BZP        Shipped    1        574.00      CHENNAI   \n",
       "\n",
       "    ship-state  ship-postal-code    B2B fulfilled-by  \n",
       "0  MAHARASHTRA            400081  False    Easy Ship  \n",
       "1    KARNATAKA            560085  False    Easy Ship  \n",
       "2  MAHARASHTRA            410210   True          NaN  \n",
       "3   PUDUCHERRY            605008  False    Easy Ship  \n",
       "4   TAMIL NADU            600073  False          NaN  "
      ]
     },
     "execution_count": 19,
     "metadata": {},
     "output_type": "execute_result"
    }
   ],
   "source": [
    "# Quick check\n",
    "df.head()"
   ]
  },
  {
   "cell_type": "code",
   "execution_count": 21,
   "id": "9a57f3b6-acc6-40e4-bc07-49509d3e9f3d",
   "metadata": {},
   "outputs": [
    {
     "name": "stdout",
     "output_type": "stream",
     "text": [
      "<class 'pandas.core.frame.DataFrame'>\n",
      "RangeIndex: 128942 entries, 0 to 128941\n",
      "Data columns (total 19 columns):\n",
      " #   Column              Non-Null Count   Dtype         \n",
      "---  ------              --------------   -----         \n",
      " 0   Order ID            128942 non-null  object        \n",
      " 1   Date                128942 non-null  datetime64[ns]\n",
      " 2   Status              128942 non-null  object        \n",
      " 3   Fulfilment          128942 non-null  object        \n",
      " 4   Sales Channel       128942 non-null  object        \n",
      " 5   ship-service-level  128942 non-null  object        \n",
      " 6   Style               128942 non-null  object        \n",
      " 7   SKU                 128942 non-null  object        \n",
      " 8   Category            128942 non-null  object        \n",
      " 9   Size                128942 non-null  object        \n",
      " 10  ASIN                128942 non-null  object        \n",
      " 11  Courier Status      122073 non-null  object        \n",
      " 12  Qty                 128942 non-null  int64         \n",
      " 13  Amount (IDR)        121149 non-null  float64       \n",
      " 14  ship-city           128942 non-null  object        \n",
      " 15  ship-state          128942 non-null  object        \n",
      " 16  ship-postal-code    128942 non-null  int64         \n",
      " 17  B2B                 128942 non-null  bool          \n",
      " 18  fulfilled-by        39264 non-null   object        \n",
      "dtypes: bool(1), datetime64[ns](1), float64(1), int64(2), object(14)\n",
      "memory usage: 17.8+ MB\n"
     ]
    }
   ],
   "source": [
    "# Quick check\n",
    "df.info()"
   ]
  },
  {
   "cell_type": "code",
   "execution_count": 23,
   "id": "80bac9ef-c889-483b-90a0-d64c285e8975",
   "metadata": {},
   "outputs": [
    {
     "name": "stdout",
     "output_type": "stream",
     "text": [
      "<class 'pandas.core.frame.DataFrame'>\n",
      "RangeIndex: 128942 entries, 0 to 128941\n",
      "Data columns (total 19 columns):\n",
      " #   Column              Non-Null Count   Dtype         \n",
      "---  ------              --------------   -----         \n",
      " 0   Order ID            128942 non-null  object        \n",
      " 1   Date                128942 non-null  datetime64[ns]\n",
      " 2   Status              128942 non-null  object        \n",
      " 3   Fulfilment          128942 non-null  object        \n",
      " 4   Sales Channel       128942 non-null  object        \n",
      " 5   ship-service-level  128942 non-null  object        \n",
      " 6   Style               128942 non-null  object        \n",
      " 7   SKU                 128942 non-null  object        \n",
      " 8   Category            128942 non-null  object        \n",
      " 9   Size                128942 non-null  object        \n",
      " 10  ASIN                128942 non-null  object        \n",
      " 11  Courier Status      122073 non-null  object        \n",
      " 12  Qty                 128942 non-null  int64         \n",
      " 13  Amount (IDR)        121149 non-null  float64       \n",
      " 14  ship-city           128942 non-null  object        \n",
      " 15  ship-state          128942 non-null  object        \n",
      " 16  ship-postal-code    128942 non-null  int64         \n",
      " 17  B2B                 128942 non-null  bool          \n",
      " 18  fulfilled-by        39264 non-null   object        \n",
      "dtypes: bool(1), datetime64[ns](1), float64(1), int64(2), object(14)\n",
      "memory usage: 17.8+ MB\n"
     ]
    }
   ],
   "source": [
    "# Transforming Date content into \n",
    "df['Date'] = pd.to_datetime(df['Date'], format='%m-%d-%y', errors='coerce')\n",
    "# Quick check\n",
    "df.info()"
   ]
  },
  {
   "cell_type": "code",
   "execution_count": 29,
   "id": "64f25754-c025-4ff6-b48c-e748a5f46575",
   "metadata": {},
   "outputs": [
    {
     "data": {
      "text/html": [
       "<div>\n",
       "<style scoped>\n",
       "    .dataframe tbody tr th:only-of-type {\n",
       "        vertical-align: middle;\n",
       "    }\n",
       "\n",
       "    .dataframe tbody tr th {\n",
       "        vertical-align: top;\n",
       "    }\n",
       "\n",
       "    .dataframe thead th {\n",
       "        text-align: right;\n",
       "    }\n",
       "</style>\n",
       "<table border=\"1\" class=\"dataframe\">\n",
       "  <thead>\n",
       "    <tr style=\"text-align: right;\">\n",
       "      <th></th>\n",
       "      <th>Order ID</th>\n",
       "      <th>Date</th>\n",
       "      <th>Status</th>\n",
       "      <th>Fulfilment</th>\n",
       "      <th>Sales Channel</th>\n",
       "      <th>ship-service-level</th>\n",
       "      <th>Style</th>\n",
       "      <th>SKU</th>\n",
       "      <th>Category</th>\n",
       "      <th>Size</th>\n",
       "      <th>ASIN</th>\n",
       "      <th>Courier Status</th>\n",
       "      <th>Qty</th>\n",
       "      <th>Amount (IDR)</th>\n",
       "      <th>ship-city</th>\n",
       "      <th>ship-state</th>\n",
       "      <th>ship-postal-code</th>\n",
       "      <th>B2B</th>\n",
       "      <th>fulfilled-by</th>\n",
       "    </tr>\n",
       "  </thead>\n",
       "  <tbody>\n",
       "    <tr>\n",
       "      <th>0</th>\n",
       "      <td>171-5621960-3341131</td>\n",
       "      <td>2022-03-31</td>\n",
       "      <td>Shipped</td>\n",
       "      <td>Amazon</td>\n",
       "      <td>Amazon.in</td>\n",
       "      <td>Expedited</td>\n",
       "      <td>JNE3518</td>\n",
       "      <td>JNE3518-KR-L</td>\n",
       "      <td>kurta</td>\n",
       "      <td>L</td>\n",
       "      <td>B08XVQM1LP</td>\n",
       "      <td>Shipped</td>\n",
       "      <td>1</td>\n",
       "      <td>487.0</td>\n",
       "      <td>chennai</td>\n",
       "      <td>TAMIL NADU</td>\n",
       "      <td>600035</td>\n",
       "      <td>False</td>\n",
       "      <td>NaN</td>\n",
       "    </tr>\n",
       "    <tr>\n",
       "      <th>1</th>\n",
       "      <td>406-5696940-6341966</td>\n",
       "      <td>2022-03-31</td>\n",
       "      <td>Shipped</td>\n",
       "      <td>Amazon</td>\n",
       "      <td>Amazon.in</td>\n",
       "      <td>Expedited</td>\n",
       "      <td>SET291</td>\n",
       "      <td>SET291-KR-PP-XL</td>\n",
       "      <td>Set</td>\n",
       "      <td>XL</td>\n",
       "      <td>B099NJV9X7</td>\n",
       "      <td>Shipped</td>\n",
       "      <td>1</td>\n",
       "      <td>605.0</td>\n",
       "      <td>HOWRAH</td>\n",
       "      <td>WEST BENGAL</td>\n",
       "      <td>711102</td>\n",
       "      <td>False</td>\n",
       "      <td>NaN</td>\n",
       "    </tr>\n",
       "    <tr>\n",
       "      <th>2</th>\n",
       "      <td>407-4837648-6290749</td>\n",
       "      <td>2022-03-31</td>\n",
       "      <td>Shipped</td>\n",
       "      <td>Amazon</td>\n",
       "      <td>Amazon.in</td>\n",
       "      <td>Expedited</td>\n",
       "      <td>SET341</td>\n",
       "      <td>SET341-KR-NP-XL</td>\n",
       "      <td>Set</td>\n",
       "      <td>XL</td>\n",
       "      <td>B09NPX3HG3</td>\n",
       "      <td>Shipped</td>\n",
       "      <td>1</td>\n",
       "      <td>857.0</td>\n",
       "      <td>KADI</td>\n",
       "      <td>Gujarat</td>\n",
       "      <td>382715</td>\n",
       "      <td>False</td>\n",
       "      <td>NaN</td>\n",
       "    </tr>\n",
       "    <tr>\n",
       "      <th>3</th>\n",
       "      <td>402-4733027-0669159</td>\n",
       "      <td>2022-03-31</td>\n",
       "      <td>Shipped</td>\n",
       "      <td>Amazon</td>\n",
       "      <td>Amazon.in</td>\n",
       "      <td>Expedited</td>\n",
       "      <td>J0335</td>\n",
       "      <td>J0335-DR-XL</td>\n",
       "      <td>Western Dress</td>\n",
       "      <td>XL</td>\n",
       "      <td>B09831P2JC</td>\n",
       "      <td>Shipped</td>\n",
       "      <td>1</td>\n",
       "      <td>989.0</td>\n",
       "      <td>BENGALURU</td>\n",
       "      <td>KARNATAKA</td>\n",
       "      <td>560037</td>\n",
       "      <td>False</td>\n",
       "      <td>NaN</td>\n",
       "    </tr>\n",
       "    <tr>\n",
       "      <th>4</th>\n",
       "      <td>171-7254125-8884332</td>\n",
       "      <td>2022-03-31</td>\n",
       "      <td>Cancelled</td>\n",
       "      <td>Amazon</td>\n",
       "      <td>Amazon.in</td>\n",
       "      <td>Expedited</td>\n",
       "      <td>JNE3784</td>\n",
       "      <td>JNE3784-KR-XXL</td>\n",
       "      <td>kurta</td>\n",
       "      <td>XXL</td>\n",
       "      <td>B09K3XZC3J</td>\n",
       "      <td>Cancelled</td>\n",
       "      <td>0</td>\n",
       "      <td>NaN</td>\n",
       "      <td>JAIPUR</td>\n",
       "      <td>RAJASTHAN</td>\n",
       "      <td>302029</td>\n",
       "      <td>False</td>\n",
       "      <td>NaN</td>\n",
       "    </tr>\n",
       "  </tbody>\n",
       "</table>\n",
       "</div>"
      ],
      "text/plain": [
       "              Order ID       Date     Status Fulfilment Sales Channel  \\\n",
       "0  171-5621960-3341131 2022-03-31    Shipped     Amazon     Amazon.in   \n",
       "1  406-5696940-6341966 2022-03-31    Shipped     Amazon     Amazon.in   \n",
       "2  407-4837648-6290749 2022-03-31    Shipped     Amazon     Amazon.in   \n",
       "3  402-4733027-0669159 2022-03-31    Shipped     Amazon     Amazon.in   \n",
       "4  171-7254125-8884332 2022-03-31  Cancelled     Amazon     Amazon.in   \n",
       "\n",
       "  ship-service-level    Style              SKU       Category Size  \\\n",
       "0          Expedited  JNE3518     JNE3518-KR-L          kurta    L   \n",
       "1          Expedited   SET291  SET291-KR-PP-XL            Set   XL   \n",
       "2          Expedited   SET341  SET341-KR-NP-XL            Set   XL   \n",
       "3          Expedited    J0335      J0335-DR-XL  Western Dress   XL   \n",
       "4          Expedited  JNE3784   JNE3784-KR-XXL          kurta  XXL   \n",
       "\n",
       "         ASIN Courier Status  Qty  Amount (IDR)  ship-city   ship-state  \\\n",
       "0  B08XVQM1LP        Shipped    1         487.0    chennai   TAMIL NADU   \n",
       "1  B099NJV9X7        Shipped    1         605.0     HOWRAH  WEST BENGAL   \n",
       "2  B09NPX3HG3        Shipped    1         857.0       KADI      Gujarat   \n",
       "3  B09831P2JC        Shipped    1         989.0  BENGALURU    KARNATAKA   \n",
       "4  B09K3XZC3J      Cancelled    0           NaN     JAIPUR    RAJASTHAN   \n",
       "\n",
       "   ship-postal-code    B2B fulfilled-by  \n",
       "0            600035  False          NaN  \n",
       "1            711102  False          NaN  \n",
       "2            382715  False          NaN  \n",
       "3            560037  False          NaN  \n",
       "4            302029  False          NaN  "
      ]
     },
     "execution_count": 29,
     "metadata": {},
     "output_type": "execute_result"
    }
   ],
   "source": [
    "# Sort the dataframe by Date\n",
    "df = df.sort_values(by='Date').reset_index(drop=True)\n",
    "\n",
    "# Preview the result\n",
    "df.head()"
   ]
  },
  {
   "cell_type": "code",
   "execution_count": 31,
   "id": "4b076285-e944-4202-bc04-b8e4314c8127",
   "metadata": {},
   "outputs": [
    {
     "data": {
      "text/html": [
       "<div>\n",
       "<style scoped>\n",
       "    .dataframe tbody tr th:only-of-type {\n",
       "        vertical-align: middle;\n",
       "    }\n",
       "\n",
       "    .dataframe tbody tr th {\n",
       "        vertical-align: top;\n",
       "    }\n",
       "\n",
       "    .dataframe thead th {\n",
       "        text-align: right;\n",
       "    }\n",
       "</style>\n",
       "<table border=\"1\" class=\"dataframe\">\n",
       "  <thead>\n",
       "    <tr style=\"text-align: right;\">\n",
       "      <th></th>\n",
       "      <th>Order ID</th>\n",
       "      <th>Date</th>\n",
       "      <th>Status</th>\n",
       "      <th>Fulfilment</th>\n",
       "      <th>Sales Channel</th>\n",
       "      <th>ship-service-level</th>\n",
       "      <th>Style</th>\n",
       "      <th>SKU</th>\n",
       "      <th>Category</th>\n",
       "      <th>Size</th>\n",
       "      <th>ASIN</th>\n",
       "      <th>Courier Status</th>\n",
       "      <th>Qty</th>\n",
       "      <th>Amount (IDR)</th>\n",
       "      <th>ship-city</th>\n",
       "      <th>ship-state</th>\n",
       "      <th>ship-postal-code</th>\n",
       "      <th>B2B</th>\n",
       "      <th>fulfilled-by</th>\n",
       "    </tr>\n",
       "  </thead>\n",
       "  <tbody>\n",
       "    <tr>\n",
       "      <th>128937</th>\n",
       "      <td>404-6523220-4171508</td>\n",
       "      <td>2022-06-29</td>\n",
       "      <td>Cancelled</td>\n",
       "      <td>Amazon</td>\n",
       "      <td>Amazon.in</td>\n",
       "      <td>Expedited</td>\n",
       "      <td>JNE3440</td>\n",
       "      <td>JNE3440-KR-N-M</td>\n",
       "      <td>kurta</td>\n",
       "      <td>M</td>\n",
       "      <td>B081WY1SP3</td>\n",
       "      <td>Cancelled</td>\n",
       "      <td>0</td>\n",
       "      <td>NaN</td>\n",
       "      <td>GUDUR</td>\n",
       "      <td>ANDHRA PRADESH</td>\n",
       "      <td>524412</td>\n",
       "      <td>False</td>\n",
       "      <td>NaN</td>\n",
       "    </tr>\n",
       "    <tr>\n",
       "      <th>128938</th>\n",
       "      <td>403-3041916-4169943</td>\n",
       "      <td>2022-06-29</td>\n",
       "      <td>Shipped</td>\n",
       "      <td>Amazon</td>\n",
       "      <td>Amazon.in</td>\n",
       "      <td>Expedited</td>\n",
       "      <td>JNE3645</td>\n",
       "      <td>JNE3645-TP-N-XS</td>\n",
       "      <td>Top</td>\n",
       "      <td>XS</td>\n",
       "      <td>B08ZJ2CB3B</td>\n",
       "      <td>Shipped</td>\n",
       "      <td>1</td>\n",
       "      <td>473.0</td>\n",
       "      <td>JAIPUR</td>\n",
       "      <td>RAJASTHAN</td>\n",
       "      <td>302021</td>\n",
       "      <td>False</td>\n",
       "      <td>NaN</td>\n",
       "    </tr>\n",
       "    <tr>\n",
       "      <th>128939</th>\n",
       "      <td>404-1853914-5061101</td>\n",
       "      <td>2022-06-29</td>\n",
       "      <td>Shipped</td>\n",
       "      <td>Amazon</td>\n",
       "      <td>Amazon.in</td>\n",
       "      <td>Expedited</td>\n",
       "      <td>JNE3440</td>\n",
       "      <td>JNE3440-KR-N-L</td>\n",
       "      <td>kurta</td>\n",
       "      <td>L</td>\n",
       "      <td>B081X7JHBC</td>\n",
       "      <td>Shipped</td>\n",
       "      <td>1</td>\n",
       "      <td>435.0</td>\n",
       "      <td>GUDUR</td>\n",
       "      <td>ANDHRA PRADESH</td>\n",
       "      <td>524412</td>\n",
       "      <td>False</td>\n",
       "      <td>NaN</td>\n",
       "    </tr>\n",
       "    <tr>\n",
       "      <th>128940</th>\n",
       "      <td>171-3323289-3692326</td>\n",
       "      <td>2022-06-29</td>\n",
       "      <td>Shipped</td>\n",
       "      <td>Amazon</td>\n",
       "      <td>Amazon.in</td>\n",
       "      <td>Expedited</td>\n",
       "      <td>SET345</td>\n",
       "      <td>SET345-KR-NP-XXL</td>\n",
       "      <td>Set</td>\n",
       "      <td>XXL</td>\n",
       "      <td>B09KXSQ73F</td>\n",
       "      <td>Shipped</td>\n",
       "      <td>1</td>\n",
       "      <td>641.0</td>\n",
       "      <td>KARAIKAL</td>\n",
       "      <td>PUDUCHERRY</td>\n",
       "      <td>609603</td>\n",
       "      <td>False</td>\n",
       "      <td>NaN</td>\n",
       "    </tr>\n",
       "    <tr>\n",
       "      <th>128941</th>\n",
       "      <td>408-7436540-8728312</td>\n",
       "      <td>2022-06-29</td>\n",
       "      <td>Shipped</td>\n",
       "      <td>Amazon</td>\n",
       "      <td>Amazon.in</td>\n",
       "      <td>Expedited</td>\n",
       "      <td>J0003</td>\n",
       "      <td>J0003-SET-S</td>\n",
       "      <td>Set</td>\n",
       "      <td>S</td>\n",
       "      <td>B0894X27FC</td>\n",
       "      <td>Shipped</td>\n",
       "      <td>1</td>\n",
       "      <td>696.0</td>\n",
       "      <td>Raipur</td>\n",
       "      <td>CHHATTISGARH</td>\n",
       "      <td>492014</td>\n",
       "      <td>False</td>\n",
       "      <td>NaN</td>\n",
       "    </tr>\n",
       "  </tbody>\n",
       "</table>\n",
       "</div>"
      ],
      "text/plain": [
       "                   Order ID       Date     Status Fulfilment Sales Channel  \\\n",
       "128937  404-6523220-4171508 2022-06-29  Cancelled     Amazon     Amazon.in   \n",
       "128938  403-3041916-4169943 2022-06-29    Shipped     Amazon     Amazon.in   \n",
       "128939  404-1853914-5061101 2022-06-29    Shipped     Amazon     Amazon.in   \n",
       "128940  171-3323289-3692326 2022-06-29    Shipped     Amazon     Amazon.in   \n",
       "128941  408-7436540-8728312 2022-06-29    Shipped     Amazon     Amazon.in   \n",
       "\n",
       "       ship-service-level    Style               SKU Category Size  \\\n",
       "128937          Expedited  JNE3440    JNE3440-KR-N-M    kurta    M   \n",
       "128938          Expedited  JNE3645   JNE3645-TP-N-XS      Top   XS   \n",
       "128939          Expedited  JNE3440    JNE3440-KR-N-L    kurta    L   \n",
       "128940          Expedited   SET345  SET345-KR-NP-XXL      Set  XXL   \n",
       "128941          Expedited    J0003       J0003-SET-S      Set    S   \n",
       "\n",
       "              ASIN Courier Status  Qty  Amount (IDR) ship-city  \\\n",
       "128937  B081WY1SP3      Cancelled    0           NaN     GUDUR   \n",
       "128938  B08ZJ2CB3B        Shipped    1         473.0    JAIPUR   \n",
       "128939  B081X7JHBC        Shipped    1         435.0     GUDUR   \n",
       "128940  B09KXSQ73F        Shipped    1         641.0  KARAIKAL   \n",
       "128941  B0894X27FC        Shipped    1         696.0    Raipur   \n",
       "\n",
       "            ship-state  ship-postal-code    B2B fulfilled-by  \n",
       "128937  ANDHRA PRADESH            524412  False          NaN  \n",
       "128938       RAJASTHAN            302021  False          NaN  \n",
       "128939  ANDHRA PRADESH            524412  False          NaN  \n",
       "128940      PUDUCHERRY            609603  False          NaN  \n",
       "128941    CHHATTISGARH            492014  False          NaN  "
      ]
     },
     "execution_count": 31,
     "metadata": {},
     "output_type": "execute_result"
    }
   ],
   "source": [
    "df.tail()"
   ]
  },
  {
   "cell_type": "code",
   "execution_count": 33,
   "id": "e0c11eb9-96b5-4189-b309-4778efcc3cc0",
   "metadata": {},
   "outputs": [
    {
     "data": {
      "text/plain": [
       "Order ID                  0\n",
       "Date                      0\n",
       "Status                    0\n",
       "Fulfilment                0\n",
       "Sales Channel             0\n",
       "ship-service-level        0\n",
       "Style                     0\n",
       "SKU                       0\n",
       "Category                  0\n",
       "Size                      0\n",
       "ASIN                      0\n",
       "Courier Status         6869\n",
       "Qty                       0\n",
       "Amount (IDR)           7793\n",
       "ship-city                 0\n",
       "ship-state                0\n",
       "ship-postal-code          0\n",
       "B2B                       0\n",
       "fulfilled-by          89678\n",
       "dtype: int64"
      ]
     },
     "execution_count": 33,
     "metadata": {},
     "output_type": "execute_result"
    }
   ],
   "source": [
    "#Checking for empty cells\n",
    "df.isnull().sum()"
   ]
  },
  {
   "cell_type": "code",
   "execution_count": 43,
   "id": "8c75b90b-9e70-450d-8248-0d44fc0bc23f",
   "metadata": {},
   "outputs": [
    {
     "data": {
      "text/plain": [
       "array(['Shipped', 'Cancelled', 'Unshipped', nan], dtype=object)"
      ]
     },
     "execution_count": 43,
     "metadata": {},
     "output_type": "execute_result"
    }
   ],
   "source": [
    "df['Courier Status'].unique()"
   ]
  },
  {
   "cell_type": "code",
   "execution_count": 41,
   "id": "06872620-4897-4fac-9930-b13747f1daee",
   "metadata": {},
   "outputs": [
    {
     "data": {
      "text/plain": [
       "array(['Shipped', 'Cancelled', 'Shipped - Delivered to Buyer',\n",
       "       'Shipped - Returned to Seller', 'Shipped - Rejected by Buyer',\n",
       "       'Shipped - Out for Delivery', 'Shipped - Picked Up', 'Pending',\n",
       "       'Shipped - Returning to Seller', 'Shipped - Lost in Transit',\n",
       "       'Pending - Waiting for Pick Up', 'Shipped - Damaged', 'Shipping'],\n",
       "      dtype=object)"
      ]
     },
     "execution_count": 41,
     "metadata": {},
     "output_type": "execute_result"
    }
   ],
   "source": [
    "df['Status'].unique()"
   ]
  },
  {
   "cell_type": "code",
   "execution_count": 45,
   "id": "0a242862-fa32-4423-93a2-9d5c5d3e9b39",
   "metadata": {},
   "outputs": [],
   "source": [
    "#Droping Courier Status for redundancy\n",
    "df = df.drop(columns=['Courier Status'])"
   ]
  },
  {
   "cell_type": "code",
   "execution_count": 47,
   "id": "12a0ee3a-b23a-4675-8433-7d405b53b4f7",
   "metadata": {},
   "outputs": [
    {
     "data": {
      "text/plain": [
       "Status\n",
       "Cancelled                       12696\n",
       "Shipped                            93\n",
       "Shipped - Delivered to Buyer        8\n",
       "Shipped - Returned to Seller        3\n",
       "Pending                             2\n",
       "Name: count, dtype: int64"
      ]
     },
     "execution_count": 47,
     "metadata": {},
     "output_type": "execute_result"
    }
   ],
   "source": [
    "#Checking for correlation between Qty = 0 and Status = Canceled\n",
    "df[df['Qty'] == 0]['Status'].value_counts()"
   ]
  },
  {
   "cell_type": "code",
   "execution_count": 51,
   "id": "a240340f-a5d6-4b57-b709-2281ac43f1e6",
   "metadata": {},
   "outputs": [
    {
     "data": {
      "text/plain": [
       "Status\n",
       "Cancelled    12696\n",
       "Name: count, dtype: int64"
      ]
     },
     "execution_count": 51,
     "metadata": {},
     "output_type": "execute_result"
    }
   ],
   "source": [
    "# Only a few suspicious lines, let's only keep the rest\n",
    "df = df[~((df['Qty'] == 0) & (df['Status'] != 'Cancelled'))]\n",
    "df[df['Qty'] == 0]['Status'].value_counts()"
   ]
  },
  {
   "cell_type": "code",
   "execution_count": 53,
   "id": "eecf4237-5712-4af4-ac62-06975a2ca9df",
   "metadata": {},
   "outputs": [
    {
     "data": {
      "text/plain": [
       "Qty\n",
       "0    12696\n",
       "1     5603\n",
       "2       26\n",
       "Name: count, dtype: int64"
      ]
     },
     "execution_count": 53,
     "metadata": {},
     "output_type": "execute_result"
    }
   ],
   "source": [
    "# Let's test our correlation the other way. If an order is canceled, Qty should be 0\n",
    "df[df['Status'] == 'Cancelled']['Qty'].value_counts()"
   ]
  },
  {
   "cell_type": "code",
   "execution_count": 57,
   "id": "d35466f4-0966-4998-9a76-5c685107b5c7",
   "metadata": {},
   "outputs": [
    {
     "data": {
      "text/plain": [
       "Qty\n",
       "0    18325\n",
       "Name: count, dtype: int64"
      ]
     },
     "execution_count": 57,
     "metadata": {},
     "output_type": "execute_result"
    }
   ],
   "source": [
    "# This way around we have more mistakes, it would be cleaner to correct the Qty\n",
    "df.loc[(df['Qty'] != 0) & (df['Status'] == 'Cancelled'), 'Qty'] = 0\n",
    "df[df['Status'] == 'Cancelled']['Qty'].value_counts()"
   ]
  },
  {
   "cell_type": "code",
   "execution_count": 59,
   "id": "44eb94e0-674e-4d29-b37a-e39c93870ca0",
   "metadata": {},
   "outputs": [
    {
     "name": "stdout",
     "output_type": "stream",
     "text": [
      "<class 'pandas.core.frame.DataFrame'>\n",
      "Index: 128836 entries, 0 to 128941\n",
      "Data columns (total 18 columns):\n",
      " #   Column              Non-Null Count   Dtype         \n",
      "---  ------              --------------   -----         \n",
      " 0   Order ID            128836 non-null  object        \n",
      " 1   Date                128836 non-null  datetime64[ns]\n",
      " 2   Status              128836 non-null  object        \n",
      " 3   Fulfilment          128836 non-null  object        \n",
      " 4   Sales Channel       128836 non-null  object        \n",
      " 5   ship-service-level  128836 non-null  object        \n",
      " 6   Style               128836 non-null  object        \n",
      " 7   SKU                 128836 non-null  object        \n",
      " 8   Category            128836 non-null  object        \n",
      " 9   Size                128836 non-null  object        \n",
      " 10  ASIN                128836 non-null  object        \n",
      " 11  Qty                 128836 non-null  int64         \n",
      " 12  Amount (IDR)        121149 non-null  float64       \n",
      " 13  ship-city           128836 non-null  object        \n",
      " 14  ship-state          128836 non-null  object        \n",
      " 15  ship-postal-code    128836 non-null  int64         \n",
      " 16  B2B                 128836 non-null  bool          \n",
      " 17  fulfilled-by        39253 non-null   object        \n",
      "dtypes: bool(1), datetime64[ns](1), float64(1), int64(2), object(13)\n",
      "memory usage: 17.8+ MB\n"
     ]
    }
   ],
   "source": [
    "# Quick check\n",
    "df.info()"
   ]
  },
  {
   "cell_type": "code",
   "execution_count": 61,
   "id": "3b655289-1cbd-4584-91d6-a9a84016ecdb",
   "metadata": {},
   "outputs": [
    {
     "data": {
      "text/plain": [
       "Order ID                  0\n",
       "Date                      0\n",
       "Status                    0\n",
       "Fulfilment                0\n",
       "Sales Channel             0\n",
       "ship-service-level        0\n",
       "Style                     0\n",
       "SKU                       0\n",
       "Category                  0\n",
       "Size                      0\n",
       "ASIN                      0\n",
       "Qty                       0\n",
       "Amount (IDR)           7687\n",
       "ship-city                 0\n",
       "ship-state                0\n",
       "ship-postal-code          0\n",
       "B2B                       0\n",
       "fulfilled-by          89583\n",
       "dtype: int64"
      ]
     },
     "execution_count": 61,
     "metadata": {},
     "output_type": "execute_result"
    }
   ],
   "source": [
    "#Checking for empty cells\n",
    "df.isnull().sum()"
   ]
  },
  {
   "cell_type": "code",
   "execution_count": 75,
   "id": "fdf7ee68-b81c-400a-be40-85e9b820aa19",
   "metadata": {},
   "outputs": [
    {
     "data": {
      "text/plain": [
       "Qty\n",
       "0     7564\n",
       "1      114\n",
       "2        4\n",
       "15       1\n",
       "3        1\n",
       "4        1\n",
       "13       1\n",
       "9        1\n",
       "Name: count, dtype: int64"
      ]
     },
     "execution_count": 75,
     "metadata": {},
     "output_type": "execute_result"
    }
   ],
   "source": [
    "# It would make sense that empty cells in amount would be correlated with a Qty of 0\n",
    "df[df['Amount (IDR)'].isnull()]['Qty'].value_counts()"
   ]
  },
  {
   "cell_type": "code",
   "execution_count": 79,
   "id": "b659ca2c-777a-4c8c-92dc-4682eb0592e4",
   "metadata": {},
   "outputs": [],
   "source": [
    "#Here what we can do is delete the lines where we don't have the price and the quentity is NOT equal to zero.\n",
    "df = df.drop(df[(df['Amount (IDR)'].isnull()) & (df['Qty'] != 0)].index)"
   ]
  },
  {
   "cell_type": "code",
   "execution_count": 81,
   "id": "9e89bf25-b029-4de6-aba1-70ce0cb0bbc4",
   "metadata": {},
   "outputs": [],
   "source": [
    "#Then, we can put 0 as the price for all orders with a Qty of 0\n",
    "df.loc[df['Qty'] == 0, 'Amount (IDR)'] = 0"
   ]
  },
  {
   "cell_type": "code",
   "execution_count": 83,
   "id": "195f62d5-315d-419f-9b8a-02672c7f9da7",
   "metadata": {},
   "outputs": [
    {
     "data": {
      "text/plain": [
       "Series([], Name: count, dtype: int64)"
      ]
     },
     "execution_count": 83,
     "metadata": {},
     "output_type": "execute_result"
    }
   ],
   "source": [
    "#check\n",
    "df[df['Amount (IDR)'].isnull()]['Qty'].value_counts()"
   ]
  },
  {
   "cell_type": "code",
   "execution_count": 85,
   "id": "7e2b28c5-8de5-4d34-8496-d0cc355e35fd",
   "metadata": {},
   "outputs": [
    {
     "data": {
      "text/plain": [
       "Order ID                  0\n",
       "Date                      0\n",
       "Status                    0\n",
       "Fulfilment                0\n",
       "Sales Channel             0\n",
       "ship-service-level        0\n",
       "Style                     0\n",
       "SKU                       0\n",
       "Category                  0\n",
       "Size                      0\n",
       "ASIN                      0\n",
       "Qty                       0\n",
       "Amount (IDR)              0\n",
       "ship-city                 0\n",
       "ship-state                0\n",
       "ship-postal-code          0\n",
       "B2B                       0\n",
       "fulfilled-by          89460\n",
       "dtype: int64"
      ]
     },
     "execution_count": 85,
     "metadata": {},
     "output_type": "execute_result"
    }
   ],
   "source": [
    "#Checking for empty cells\n",
    "df.isnull().sum()"
   ]
  },
  {
   "cell_type": "code",
   "execution_count": 89,
   "id": "90e3bbe2-71d5-482d-b73c-8b35c78ee377",
   "metadata": {},
   "outputs": [
    {
     "data": {
      "text/plain": [
       "array([nan, 'Easy Ship'], dtype=object)"
      ]
     },
     "execution_count": 89,
     "metadata": {},
     "output_type": "execute_result"
    }
   ],
   "source": [
    "df['fulfilled-by'].unique()"
   ]
  },
  {
   "cell_type": "code",
   "execution_count": 91,
   "id": "4b3f2ce4-2740-4eeb-a43b-e80c9c9a5937",
   "metadata": {},
   "outputs": [],
   "source": [
    "# no real added value for further analysis from fulfilled-by, dropped\n",
    "df = df.drop(columns=['fulfilled-by'])"
   ]
  },
  {
   "cell_type": "code",
   "execution_count": 93,
   "id": "961c28a5-9ad3-45ef-8220-32469356715e",
   "metadata": {},
   "outputs": [
    {
     "data": {
      "text/html": [
       "<div>\n",
       "<style scoped>\n",
       "    .dataframe tbody tr th:only-of-type {\n",
       "        vertical-align: middle;\n",
       "    }\n",
       "\n",
       "    .dataframe tbody tr th {\n",
       "        vertical-align: top;\n",
       "    }\n",
       "\n",
       "    .dataframe thead th {\n",
       "        text-align: right;\n",
       "    }\n",
       "</style>\n",
       "<table border=\"1\" class=\"dataframe\">\n",
       "  <thead>\n",
       "    <tr style=\"text-align: right;\">\n",
       "      <th></th>\n",
       "      <th>Order ID</th>\n",
       "      <th>Date</th>\n",
       "      <th>Status</th>\n",
       "      <th>Fulfilment</th>\n",
       "      <th>Sales Channel</th>\n",
       "      <th>ship-service-level</th>\n",
       "      <th>Style</th>\n",
       "      <th>SKU</th>\n",
       "      <th>Category</th>\n",
       "      <th>Size</th>\n",
       "      <th>ASIN</th>\n",
       "      <th>Qty</th>\n",
       "      <th>Amount (IDR)</th>\n",
       "      <th>ship-city</th>\n",
       "      <th>ship-state</th>\n",
       "      <th>ship-postal-code</th>\n",
       "      <th>B2B</th>\n",
       "    </tr>\n",
       "  </thead>\n",
       "  <tbody>\n",
       "    <tr>\n",
       "      <th>0</th>\n",
       "      <td>171-5621960-3341131</td>\n",
       "      <td>2022-03-31</td>\n",
       "      <td>Shipped</td>\n",
       "      <td>Amazon</td>\n",
       "      <td>Amazon.in</td>\n",
       "      <td>Expedited</td>\n",
       "      <td>JNE3518</td>\n",
       "      <td>JNE3518-KR-L</td>\n",
       "      <td>kurta</td>\n",
       "      <td>L</td>\n",
       "      <td>B08XVQM1LP</td>\n",
       "      <td>1</td>\n",
       "      <td>487.0</td>\n",
       "      <td>chennai</td>\n",
       "      <td>TAMIL NADU</td>\n",
       "      <td>600035</td>\n",
       "      <td>False</td>\n",
       "    </tr>\n",
       "    <tr>\n",
       "      <th>1</th>\n",
       "      <td>406-5696940-6341966</td>\n",
       "      <td>2022-03-31</td>\n",
       "      <td>Shipped</td>\n",
       "      <td>Amazon</td>\n",
       "      <td>Amazon.in</td>\n",
       "      <td>Expedited</td>\n",
       "      <td>SET291</td>\n",
       "      <td>SET291-KR-PP-XL</td>\n",
       "      <td>Set</td>\n",
       "      <td>XL</td>\n",
       "      <td>B099NJV9X7</td>\n",
       "      <td>1</td>\n",
       "      <td>605.0</td>\n",
       "      <td>HOWRAH</td>\n",
       "      <td>WEST BENGAL</td>\n",
       "      <td>711102</td>\n",
       "      <td>False</td>\n",
       "    </tr>\n",
       "    <tr>\n",
       "      <th>2</th>\n",
       "      <td>407-4837648-6290749</td>\n",
       "      <td>2022-03-31</td>\n",
       "      <td>Shipped</td>\n",
       "      <td>Amazon</td>\n",
       "      <td>Amazon.in</td>\n",
       "      <td>Expedited</td>\n",
       "      <td>SET341</td>\n",
       "      <td>SET341-KR-NP-XL</td>\n",
       "      <td>Set</td>\n",
       "      <td>XL</td>\n",
       "      <td>B09NPX3HG3</td>\n",
       "      <td>1</td>\n",
       "      <td>857.0</td>\n",
       "      <td>KADI</td>\n",
       "      <td>Gujarat</td>\n",
       "      <td>382715</td>\n",
       "      <td>False</td>\n",
       "    </tr>\n",
       "    <tr>\n",
       "      <th>3</th>\n",
       "      <td>402-4733027-0669159</td>\n",
       "      <td>2022-03-31</td>\n",
       "      <td>Shipped</td>\n",
       "      <td>Amazon</td>\n",
       "      <td>Amazon.in</td>\n",
       "      <td>Expedited</td>\n",
       "      <td>J0335</td>\n",
       "      <td>J0335-DR-XL</td>\n",
       "      <td>Western Dress</td>\n",
       "      <td>XL</td>\n",
       "      <td>B09831P2JC</td>\n",
       "      <td>1</td>\n",
       "      <td>989.0</td>\n",
       "      <td>BENGALURU</td>\n",
       "      <td>KARNATAKA</td>\n",
       "      <td>560037</td>\n",
       "      <td>False</td>\n",
       "    </tr>\n",
       "    <tr>\n",
       "      <th>4</th>\n",
       "      <td>171-7254125-8884332</td>\n",
       "      <td>2022-03-31</td>\n",
       "      <td>Cancelled</td>\n",
       "      <td>Amazon</td>\n",
       "      <td>Amazon.in</td>\n",
       "      <td>Expedited</td>\n",
       "      <td>JNE3784</td>\n",
       "      <td>JNE3784-KR-XXL</td>\n",
       "      <td>kurta</td>\n",
       "      <td>XXL</td>\n",
       "      <td>B09K3XZC3J</td>\n",
       "      <td>0</td>\n",
       "      <td>0.0</td>\n",
       "      <td>JAIPUR</td>\n",
       "      <td>RAJASTHAN</td>\n",
       "      <td>302029</td>\n",
       "      <td>False</td>\n",
       "    </tr>\n",
       "  </tbody>\n",
       "</table>\n",
       "</div>"
      ],
      "text/plain": [
       "              Order ID       Date     Status Fulfilment Sales Channel  \\\n",
       "0  171-5621960-3341131 2022-03-31    Shipped     Amazon     Amazon.in   \n",
       "1  406-5696940-6341966 2022-03-31    Shipped     Amazon     Amazon.in   \n",
       "2  407-4837648-6290749 2022-03-31    Shipped     Amazon     Amazon.in   \n",
       "3  402-4733027-0669159 2022-03-31    Shipped     Amazon     Amazon.in   \n",
       "4  171-7254125-8884332 2022-03-31  Cancelled     Amazon     Amazon.in   \n",
       "\n",
       "  ship-service-level    Style              SKU       Category Size  \\\n",
       "0          Expedited  JNE3518     JNE3518-KR-L          kurta    L   \n",
       "1          Expedited   SET291  SET291-KR-PP-XL            Set   XL   \n",
       "2          Expedited   SET341  SET341-KR-NP-XL            Set   XL   \n",
       "3          Expedited    J0335      J0335-DR-XL  Western Dress   XL   \n",
       "4          Expedited  JNE3784   JNE3784-KR-XXL          kurta  XXL   \n",
       "\n",
       "         ASIN  Qty  Amount (IDR)  ship-city   ship-state  ship-postal-code  \\\n",
       "0  B08XVQM1LP    1         487.0    chennai   TAMIL NADU            600035   \n",
       "1  B099NJV9X7    1         605.0     HOWRAH  WEST BENGAL            711102   \n",
       "2  B09NPX3HG3    1         857.0       KADI      Gujarat            382715   \n",
       "3  B09831P2JC    1         989.0  BENGALURU    KARNATAKA            560037   \n",
       "4  B09K3XZC3J    0           0.0     JAIPUR    RAJASTHAN            302029   \n",
       "\n",
       "     B2B  \n",
       "0  False  \n",
       "1  False  \n",
       "2  False  \n",
       "3  False  \n",
       "4  False  "
      ]
     },
     "execution_count": 93,
     "metadata": {},
     "output_type": "execute_result"
    }
   ],
   "source": [
    "# Quick check\n",
    "df.head()"
   ]
  },
  {
   "cell_type": "code",
   "execution_count": 95,
   "id": "b12bb156-6a47-4a2a-b47d-fb16a78aa7e6",
   "metadata": {},
   "outputs": [],
   "source": [
    "df.to_csv(\"Amazon_Sale_Report_Cleaned.csv\", index=False)\n"
   ]
  },
  {
   "cell_type": "markdown",
   "id": "2701fac9-b48e-47cf-86de-56107c229c4c",
   "metadata": {},
   "source": [
    "## 🧐 Initial Data Exploration (Google Sheets)\n",
    "\n",
    "- The raw dataset was first explored using Google Sheets for a quick manual review.\n",
    "- Actions done:\n",
    "  - Deleted unnecessary columns: `currency`, `ship-country`, and an empty unnamed column.\n",
    "  - Identified formatting issues (like postal codes stored incorrectly).\n",
    "  - Detected missing postal codes and flagged about 30 rows for deletion.\n",
    "  - Observed that 'Courier Status' seemed redundant with 'Status'.\n",
    "- This initial manual cleanup helped define the main cleaning strategy before moving to Python for deeper analysis.\n",
    "\n",
    "---\n",
    "\n",
    "## 📋 Final Summary\n",
    "\n",
    "- Imported and explored the Amazon sales dataset.\n",
    "- Checked for missing data and inconsistencies across key fields.\n",
    "- Converted 'Date' column to proper datetime format for accurate time-series analysis.\n",
    "- Sorted data chronologically by 'Date'.\n",
    "- Removed redundant 'Courier Status' column (information was already captured in 'Status').\n",
    "- Fixed logical inconsistencies between 'Qty' and 'Status' (e.g., cancelled orders with wrong quantities).\n",
    "- Cleaned missing or incorrect 'Amount (IDR)' values:\n",
    "  - Dropped rows with missing Amount and non-zero Quantity.\n",
    "  - Set Amount to 0 for all orders with Quantity = 0.\n",
    "- Removed the 'fulfilled-by' column as it added no further value to the analysis.\n",
    "- Saved the cleaned dataset separately as `Amazon_Sale_Report_Cleaned.csv` for further analysis and visualization.\n",
    "\n",
    "---\n",
    "\n",
    "**✅ The dataset is now fully cleaned, consistent, and ready for further analysis or dashboard building!**\n"
   ]
  },
  {
   "cell_type": "markdown",
   "id": "5272ac43-467d-4434-a5d3-70644e1a028d",
   "metadata": {},
   "source": [
    "### 🔄 Revisiting Data Cleaning – Standardizing City Names\n",
    "\n",
    "After initial exploration and visualization, I noticed an inconsistency in the formatting of the `ship-city` column. Some city names were written in all uppercase (e.g., `MUMBAI`), others in lowercase (e.g., `mumbai`), and some in title case (e.g., `Mumbai`). These variations can lead to inaccurate grouping and aggregation in the analysis phase — for instance, treating `DELHI`, `delhi`, and `Delhi` as three separate cities.\n",
    "\n",
    "I will now:\n",
    "- Reload the data\n",
    "- Inspect unique values in the `ship-city` column\n",
    "- Apply appropriate cleaning (e.g., converting all entries to title case)\n",
    "- Verify that cities are consistently represented\n"
   ]
  },
  {
   "cell_type": "code",
   "execution_count": 2,
   "id": "e3965b76-30a9-4f75-ae66-5d4e5910ce02",
   "metadata": {},
   "outputs": [],
   "source": [
    "import pandas as pd\n",
    "import matplotlib.pyplot as plt\n",
    "import matplotlib.dates as mdates\n",
    "\n",
    "# Load the data\n",
    "df = pd.read_csv(r\"C:\\Users\\sypho\\portfolio\\PROJETS\\ecom\\ecommerce-sales-analysis\\data\\Amazon_Sale_Report_Cleaned.csv\")"
   ]
  },
  {
   "cell_type": "code",
   "execution_count": 4,
   "id": "7f0d9b1d-a877-4a1e-a841-dbe4aa4ce321",
   "metadata": {},
   "outputs": [
    {
     "data": {
      "text/plain": [
       "28739    Manja Fish Market\n",
       "37155         JASHPURNAGAR\n",
       "75543            HYDERABAD\n",
       "27678            HYDERABAD\n",
       "34260           KOCH BIHAR\n",
       "80593          NAVI MUMBAI\n",
       "85682            AHMEDABAD\n",
       "48313               Margao\n",
       "30118                PATNA\n",
       "95467            BENGALURU\n",
       "Name: ship-city, dtype: object"
      ]
     },
     "execution_count": 4,
     "metadata": {},
     "output_type": "execute_result"
    }
   ],
   "source": [
    "df['ship-city'].sample(10)"
   ]
  },
  {
   "cell_type": "code",
   "execution_count": 8,
   "id": "76815d13-b2a9-41e3-825b-3f498f9b5340",
   "metadata": {},
   "outputs": [
    {
     "data": {
      "text/plain": [
       "ship-city\n",
       "Bengaluru             11896\n",
       "Hyderabad              9118\n",
       "Mumbai                 7113\n",
       "New Delhi              6337\n",
       "Chennai                6276\n",
       "                      ...  \n",
       "Dombivli-E                1\n",
       "Bengaluru -50015          1\n",
       "Phirangipuram             1\n",
       "Narela                    1\n",
       "Kothapalle, E.G.Dt        1\n",
       "Name: count, Length: 7297, dtype: int64"
      ]
     },
     "execution_count": 8,
     "metadata": {},
     "output_type": "execute_result"
    }
   ],
   "source": [
    "df['ship-city'] = df['ship-city'].str.title()\n",
    "df['ship-city'].value_counts()"
   ]
  },
  {
   "cell_type": "code",
   "execution_count": 10,
   "id": "d38b9f6d-cc81-4964-b24a-f2697f0490fb",
   "metadata": {},
   "outputs": [
    {
     "data": {
      "text/plain": [
       "ship-city\n",
       "Vindhyanagar, Singrauli    4\n",
       "Bhander                    4\n",
       "Cherpu                     4\n",
       "Mumbaimumbai               4\n",
       "Nandikotkur Kurnool        4\n",
       "                          ..\n",
       "Dombivli-E                 1\n",
       "Bengaluru -50015           1\n",
       "Phirangipuram              1\n",
       "Narela                     1\n",
       "Kothapalle, E.G.Dt         1\n",
       "Name: count, Length: 5528, dtype: int64"
      ]
     },
     "execution_count": 10,
     "metadata": {},
     "output_type": "execute_result"
    }
   ],
   "source": [
    "#Looking for eventual typose\n",
    "city_counts = df['ship-city'].value_counts()\n",
    "rare_cities = city_counts[city_counts < 5]\n",
    "rare_cities"
   ]
  },
  {
   "cell_type": "code",
   "execution_count": 12,
   "id": "62918218-0d1a-4ca8-8fe0-23ac318fe18a",
   "metadata": {},
   "outputs": [],
   "source": [
    "# extra spaces\n",
    "df['ship-city'] = df['ship-city'].str.strip()"
   ]
  },
  {
   "cell_type": "code",
   "execution_count": 16,
   "id": "1313ec2f-03af-4450-954c-15c2cd144a1b",
   "metadata": {},
   "outputs": [],
   "source": [
    "#deleting names containing non letter caracters\n",
    "df = df[df['ship-city'].str.contains(r'^[a-zA-Z\\s]+$', na=False)]"
   ]
  },
  {
   "cell_type": "code",
   "execution_count": 18,
   "id": "0535f961-ad19-4301-9dc9-2155427c296d",
   "metadata": {},
   "outputs": [],
   "source": [
    "df.to_csv(\"Amazon_Sale_Report_Cleaned_Cities.csv\", index=False, encoding='utf-8')"
   ]
  },
  {
   "cell_type": "markdown",
   "id": "d179e7c2-3032-4e5e-a6e6-ec768ac13676",
   "metadata": {},
   "source": [
    "### 🧹 Additional Cleaning – `ship-city` Standardization\n",
    "\n",
    "After reviewing earlier visualizations, I returned to the cleaning process to fix inconsistencies in the `ship-city` column.\n",
    "\n",
    "✅ **Applied corrections:**\n",
    "- Capitalization standardized (title case)\n",
    "- Extra spaces removed\n",
    "- Invalid entries dropped (containing digits, punctuation, or symbols)\n",
    "\n",
    "These fixes ensure accurate city-based aggregation and visualization.  \n",
    "The cleaned dataset was saved as:  \n",
    "📄 `Amazon_Sale_Report_Cleaned_Cities.csv`\n"
   ]
  },
  {
   "cell_type": "code",
   "execution_count": null,
   "id": "3dcc8209-0ba0-46ee-b3c0-99bc7b5b27e6",
   "metadata": {},
   "outputs": [],
   "source": []
  }
 ],
 "metadata": {
  "kernelspec": {
   "display_name": "Python [conda env:base] *",
   "language": "python",
   "name": "conda-base-py"
  },
  "language_info": {
   "codemirror_mode": {
    "name": "ipython",
    "version": 3
   },
   "file_extension": ".py",
   "mimetype": "text/x-python",
   "name": "python",
   "nbconvert_exporter": "python",
   "pygments_lexer": "ipython3",
   "version": "3.12.7"
  }
 },
 "nbformat": 4,
 "nbformat_minor": 5
}
